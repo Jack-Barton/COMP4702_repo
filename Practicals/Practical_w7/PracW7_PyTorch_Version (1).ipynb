{
  "nbformat": 4,
  "nbformat_minor": 0,
  "metadata": {
    "colab": {
      "provenance": [],
      "gpuType": "T4"
    },
    "kernelspec": {
      "name": "python3",
      "display_name": "Python 3"
    },
    "language_info": {
      "name": "python"
    },
    "accelerator": "GPU"
  },
  "cells": [
    {
      "cell_type": "code",
      "execution_count": 1,
      "metadata": {
        "colab": {
          "base_uri": "https://localhost:8080/"
        },
        "id": "pk2LRKoHzr37",
        "outputId": "3160e900-2124-441d-8f30-46335dc20a41"
      },
      "outputs": [
        {
          "output_type": "stream",
          "name": "stdout",
          "text": [
            "2.2.1+cu121\n"
          ]
        }
      ],
      "source": [
        "# import pytorch libraries\n",
        "import torch\n",
        "import torch.nn as nn\n",
        "import torch.optim as optim\n",
        "from torchvision import datasets, transforms\n",
        "from torch.utils.data import DataLoader, random_split\n",
        "import numpy as np\n",
        "\n",
        "print(torch.__version__)\n"
      ]
    },
    {
      "cell_type": "code",
      "source": [
        "# Optional to run code on GPU\n",
        "# Check if CUDA is available and if device is GPU\n",
        "print('Cuda Available : {}'.format(torch.cuda.is_available()))\n",
        "print('GPU - {0}'.format(torch.cuda.get_device_name()))\n",
        "\n",
        "# Note:\n",
        "# If this gives you an error on Google colab, go into 'Additional connection otions' > 'Change runtime type' > Select a GPU as the Hardware Accelerator\n",
        "# If you're running code on your machine locally, your machine needs have a GPU supported graphics card and CUDA installed."
      ],
      "metadata": {
        "colab": {
          "base_uri": "https://localhost:8080/"
        },
        "id": "8vOsKqbjz9OT",
        "outputId": "0b9382da-cf19-4f2f-e82c-c15b11f8c00a"
      },
      "execution_count": 2,
      "outputs": [
        {
          "output_type": "stream",
          "name": "stdout",
          "text": [
            "Cuda Available : True\n",
            "GPU - Tesla T4\n"
          ]
        }
      ]
    },
    {
      "cell_type": "markdown",
      "source": [
        "### Here's a great beginner tutorial for reference on how to train a classifier with PyTorch on image data: [Training a classifier](https://pytorch.org/tutorials/beginner/blitz/cifar10_tutorial.html)"
      ],
      "metadata": {
        "id": "QJlo396F20sg"
      }
    },
    {
      "cell_type": "markdown",
      "source": [
        "# Q3"
      ],
      "metadata": {
        "id": "fI7-gq2w1VBl"
      }
    },
    {
      "cell_type": "code",
      "source": [
        "# Load MNIST dataset\n",
        "mnist_train = datasets.MNIST('data', train=True, download=True)\n",
        "mnist_test = datasets.MNIST('data', train=False, download=True)"
      ],
      "metadata": {
        "colab": {
          "base_uri": "https://localhost:8080/"
        },
        "id": "ToI70IEC1Het",
        "outputId": "67082a87-f47a-443e-dd05-1e243069ad20"
      },
      "execution_count": 3,
      "outputs": [
        {
          "output_type": "stream",
          "name": "stdout",
          "text": [
            "Downloading http://yann.lecun.com/exdb/mnist/train-images-idx3-ubyte.gz\n",
            "Downloading http://yann.lecun.com/exdb/mnist/train-images-idx3-ubyte.gz to data/MNIST/raw/train-images-idx3-ubyte.gz\n"
          ]
        },
        {
          "output_type": "stream",
          "name": "stderr",
          "text": [
            "100%|██████████| 9912422/9912422 [00:00<00:00, 215937337.66it/s]"
          ]
        },
        {
          "output_type": "stream",
          "name": "stdout",
          "text": [
            "Extracting data/MNIST/raw/train-images-idx3-ubyte.gz to data/MNIST/raw\n"
          ]
        },
        {
          "output_type": "stream",
          "name": "stderr",
          "text": [
            "\n"
          ]
        },
        {
          "output_type": "stream",
          "name": "stdout",
          "text": [
            "\n",
            "Downloading http://yann.lecun.com/exdb/mnist/train-labels-idx1-ubyte.gz\n",
            "Downloading http://yann.lecun.com/exdb/mnist/train-labels-idx1-ubyte.gz to data/MNIST/raw/train-labels-idx1-ubyte.gz\n"
          ]
        },
        {
          "output_type": "stream",
          "name": "stderr",
          "text": [
            "100%|██████████| 28881/28881 [00:00<00:00, 96215801.29it/s]\n"
          ]
        },
        {
          "output_type": "stream",
          "name": "stdout",
          "text": [
            "Extracting data/MNIST/raw/train-labels-idx1-ubyte.gz to data/MNIST/raw\n",
            "\n",
            "Downloading http://yann.lecun.com/exdb/mnist/t10k-images-idx3-ubyte.gz\n",
            "Downloading http://yann.lecun.com/exdb/mnist/t10k-images-idx3-ubyte.gz to data/MNIST/raw/t10k-images-idx3-ubyte.gz\n"
          ]
        },
        {
          "output_type": "stream",
          "name": "stderr",
          "text": [
            "100%|██████████| 1648877/1648877 [00:00<00:00, 80787461.12it/s]"
          ]
        },
        {
          "output_type": "stream",
          "name": "stdout",
          "text": [
            "Extracting data/MNIST/raw/t10k-images-idx3-ubyte.gz to data/MNIST/raw\n"
          ]
        },
        {
          "output_type": "stream",
          "name": "stderr",
          "text": [
            "\n"
          ]
        },
        {
          "output_type": "stream",
          "name": "stdout",
          "text": [
            "\n",
            "Downloading http://yann.lecun.com/exdb/mnist/t10k-labels-idx1-ubyte.gz\n",
            "Downloading http://yann.lecun.com/exdb/mnist/t10k-labels-idx1-ubyte.gz to data/MNIST/raw/t10k-labels-idx1-ubyte.gz\n"
          ]
        },
        {
          "output_type": "stream",
          "name": "stderr",
          "text": [
            "100%|██████████| 4542/4542 [00:00<00:00, 4796205.63it/s]\n"
          ]
        },
        {
          "output_type": "stream",
          "name": "stdout",
          "text": [
            "Extracting data/MNIST/raw/t10k-labels-idx1-ubyte.gz to data/MNIST/raw\n",
            "\n"
          ]
        }
      ]
    },
    {
      "cell_type": "code",
      "source": [
        "# visualise the dataset\n",
        "\n",
        "import matplotlib.pyplot as plt\n",
        "\n",
        "# Define a function to visualize images and their labels\n",
        "def visualize_samples(dataset, num_samples=10):\n",
        "    fig, axes = plt.subplots(1, num_samples, figsize=(15, 3))\n",
        "    for i in range(num_samples):\n",
        "        idx = np.random.randint(0, len(dataset))\n",
        "        image, label = dataset[idx]\n",
        "        axes[i].imshow(image, cmap='gray')\n",
        "        axes[i].set_title(f'Label: {label}')\n",
        "        axes[i].axis('off')\n",
        "    plt.show()\n",
        "\n",
        "# Visualize samples from the training set\n",
        "visualize_samples(mnist_train)"
      ],
      "metadata": {
        "colab": {
          "base_uri": "https://localhost:8080/",
          "height": 157
        },
        "id": "pUV_axNC1YyF",
        "outputId": "87ca9b66-132b-4d47-f9fd-3e1f40952f2f"
      },
      "execution_count": 5,
      "outputs": [
        {
          "output_type": "display_data",
          "data": {
            "text/plain": [
              "<Figure size 1500x300 with 10 Axes>"
            ],
            "image/png": "[encoded data removed]"
          },
          "metadata": {}
        }
      ]
    },
    {
      "cell_type": "code",
      "source": [
        "# Check MNIST statistics\n",
        "print('Min Pixel Value: {} \\nMax Pixel Value: {}'.format(mnist_train.data.min(), mnist_train.data.max()))\n",
        "print('Mean Pixel Value {} \\nPixel Values Std: {}'.format(mnist_train.data.float().mean(), mnist_train.data.float().std()))\n",
        "print('Scaled Mean Pixel Value {} \\nScaled Pixel Values Std: {}'.format(mnist_train.data.float().mean() / 255, mnist_train.data.float().std() / 255))"
      ],
      "metadata": {
        "colab": {
          "base_uri": "https://localhost:8080/"
        },
        "id": "yQkeckSa1gpv",
        "outputId": "7f2569d2-57ff-43b6-9ed8-ddef46d101b7"
      },
      "execution_count": 6,
      "outputs": [
        {
          "output_type": "stream",
          "name": "stdout",
          "text": [
            "Min Pixel Value: 0 \n",
            "Max Pixel Value: 255\n",
            "Mean Pixel Value 33.31842041015625 \n",
            "Pixel Values Std: 78.56748962402344\n",
            "Scaled Mean Pixel Value 0.13066047430038452 \n",
            "Scaled Pixel Values Std: 0.30810779333114624\n"
          ]
        }
      ]
    },
    {
      "cell_type": "code",
      "source": [
        "# normalize and prepare data for training the model\n",
        "\n",
        "# Define transformations\n",
        "transform = transforms.Compose([\n",
        "    transforms.ToTensor(),  # Convert PIL Image to tensor\n",
        "    transforms.Normalize((0.1307,), (0.3081,))  # Normalize the pixel values\n",
        "])\n",
        "\n",
        "# TODO: Load MNIST training dataset with transformations\n",
        "mnist_train = datasets.MNIST('data', train=True, download=True, transform=transform)\n",
        "mnist_test = datasets.MNIST('data', train=False, download=True, transform=transform)\n",
        "\n",
        "# TODO: Split dataset into training, validation, and test sets\n",
        "train_size = int(0.8 * len(mnist_train))\n",
        "val_size = len(mnist_train) - train_size\n",
        "minst_train, mnist_val = random_split(mnist_train, [train_size, val_size])\n",
        "\n",
        "# TODO: Define data loaders\n",
        "train_loader = DataLoader(mnist_train, batch_size = 500, shuffle = True)\n",
        "val_loader = DataLoader(mnist_val, batch_size = 500)\n",
        "test_loader = DataLoader(mnist_train, batch_size = 500)"
      ],
      "metadata": {
        "id": "SrX7Zpyp2C62"
      },
      "execution_count": 7,
      "outputs": []
    },
    {
      "cell_type": "code",
      "source": [
        "# TODO: Define MLP model\n",
        "class MLP(nn.Module):\n",
        "    def __init__(self):\n",
        "        super(MLP, self).__init__()\n",
        "        #TODO: define the layers of the model here\n",
        "        self.flatten = nn.Flatten() #Input layer\n",
        "\n",
        "        #Hidden Layer(s)\n",
        "        self.fc1 = nn.Linear(28*28, 512)\n",
        "        self.fc2 = nn.Linear(512, 256)    #any values for 512 and 256\n",
        "\n",
        "        #Output Layer\n",
        "        self.output = nn.Linear(256, 10)\n",
        "\n",
        "    def forward(self, x):\n",
        "        #TODO: pass the data through each layer of the model here\n",
        "        x= self.flatten(x)\n",
        "        x = torch.relu(self.fc1(x)) #hidden layer 1 relu activation function\n",
        "        x = torch.relu(self.fc2(x)) #hidden layer 1 relu activation layer\n",
        "        x= self.output(x)\n",
        "        return x"
      ],
      "metadata": {
        "id": "X_cksHyF2cxT"
      },
      "execution_count": 12,
      "outputs": []
    },
    {
      "cell_type": "code",
      "source": [
        "!pip install tqdm"
      ],
      "metadata": {
        "colab": {
          "base_uri": "https://localhost:8080/"
        },
        "id": "X5cUShw82dgk",
        "outputId": "4636a2da-d0d0-4712-e66f-7dfafa300709"
      },
      "execution_count": 13,
      "outputs": [
        {
          "output_type": "stream",
          "name": "stdout",
          "text": [
            "Requirement already satisfied: tqdm in /usr/local/lib/python3.10/dist-packages (4.66.2)\n"
          ]
        }
      ]
    },
    {
      "cell_type": "code",
      "source": [
        "from tqdm import tqdm\n",
        "\n",
        "# Initialize model\n",
        "device = 'cuda' if torch.cuda.is_available() else 'cpu'\n",
        "model = MLP().to(device)\n",
        "\n",
        "# TODO: Define the following for your model\n",
        "# loss function\n",
        "loss_fnt = nn.CrossEntropyLoss()\n",
        "\n",
        "\n",
        "# learning rate\n",
        "# optimizer\n",
        "optimizer = optim.SGD(model.parameters(), lr=1e-4)  #trial end error optimisers, random learning rate(lr)\n",
        "# number of epochs to train the model\n",
        "num_epochs = 10\n",
        "\n",
        "# Lists to store the loss and accuracy values\n",
        "train_losses = []\n",
        "train_accuracies = []\n",
        "val_accuracies = []\n",
        "\n",
        "# Training loop\n",
        "for epoch in range(num_epochs):\n",
        "  model.train()\n",
        "  correct = 0\n",
        "  total = 0\n",
        "  running_loss = 0\n",
        "  # TODO: train the model\n",
        "  # get the inputs from train data loader\n",
        "  for batch_idx, (data, targets) in enumerate(tqdm(train_loader, desc = f\"Epoch {epoch+1}\")):\n",
        "    # zero the parameter gradients\n",
        "    optimizer.zero_grad()\n",
        "    # forward pass through the model\n",
        "    outputs = model(data.to(device))\n",
        "    # backward propagation + optimize\n",
        "    loss = loss_fnt(outputs, targets.to(device))\n",
        "    loss.backward()\n",
        "    optimizer.step()\n",
        "    outputs = model(data.to(device))\n",
        "    _, predicted = torch.max(outputs, 1)\n",
        "    predicted = predicted.cpu()\n",
        "    total += targets.size(0)\n",
        "    correct += (predicted == targets).sum().item()\n",
        "    # print statistics\n",
        "    running_loss += loss.item()\n",
        "    epoch_loss = running_loss / len(train_loader)\n",
        "    epoch_accuracy = 100 * correct / total\n",
        "    train_losses.append(epoch_loss)\n",
        "    train_accuracies.append(epoch_accuracy)\n",
        "    print(f'Training Loss for Epoch {epoch+1}: {epoch_loss:.4f}')\n",
        "    print(f'Training Accuracy for Epoch {epoch+1}: {epoch_accuracy:.2f}%')\n",
        "\n",
        "\n",
        "\n",
        "    # TODO: Validate the model\n",
        "    # get inputs from validation data loader\n",
        "    # forward pass + get predicted outputs\n",
        "    # calculate accuracy of predictions\n",
        "    # print statistics\n",
        "    model.eval()\n",
        "    correct = 0\n",
        "    total = 0\n",
        "    with torch.no_grad():\n",
        "      for data,targets in val_loader:\n",
        "        outputs = model(data.to(device))\n",
        "        _, predicted = torch.max(outputs, 1)\n",
        "        predicted = predicted.cpu()\n",
        "        total += targets.size(0)\n",
        "        correct += (predicted == targets).sum().item()\n",
        "    val_accuracy = 100 * correct / total\n",
        "    val_accuracies.append(val_accuracy)\n",
        "    print(f'Validation Accuracy for Epoch {epoch+1}: {val_accuracy:.2f}%')\n",
        "\n",
        "\n"
      ],
      "metadata": {
        "colab": {
          "base_uri": "https://localhost:8080/"
        },
        "id": "6GngIqs22gN6",
        "outputId": "a5757f84-ee65-4673-fd9b-9b3b64f622fd"
      },
      "execution_count": null,
      "outputs": [
        {
          "output_type": "stream",
          "name": "stderr",
          "text": [
            "\rEpoch 1:   0%|          | 0/120 [00:00<?, ?it/s]"
          ]
        },
        {
          "output_type": "stream",
          "name": "stdout",
          "text": [
            "Training Loss for Epoch 1: 0.0194\n",
            "Training Accuracy for Epoch 1: 7.20%\n"
          ]
        },
        {
          "output_type": "stream",
          "name": "stderr",
          "text": [
            "\rEpoch 1:   1%|          | 1/120 [00:02<04:58,  2.51s/it]"
          ]
        },
        {
          "output_type": "stream",
          "name": "stdout",
          "text": [
            "Validation Accuracy for Epoch 1: 7.90%\n",
            "Training Loss for Epoch 1: 0.0387\n",
            "Training Accuracy for Epoch 1: 7.88%\n"
          ]
        },
        {
          "output_type": "stream",
          "name": "stderr",
          "text": [
            "\rEpoch 1:   2%|▏         | 2/120 [00:05<04:55,  2.50s/it]"
          ]
        },
        {
          "output_type": "stream",
          "name": "stdout",
          "text": [
            "Validation Accuracy for Epoch 1: 7.90%\n",
            "Training Loss for Epoch 1: 0.0581\n",
            "Training Accuracy for Epoch 1: 7.96%\n"
          ]
        },
        {
          "output_type": "stream",
          "name": "stderr",
          "text": [
            "\rEpoch 1:   2%|▎         | 3/120 [00:07<04:50,  2.49s/it]"
          ]
        },
        {
          "output_type": "stream",
          "name": "stdout",
          "text": [
            "Validation Accuracy for Epoch 1: 7.90%\n",
            "Training Loss for Epoch 1: 0.0774\n",
            "Training Accuracy for Epoch 1: 7.87%\n"
          ]
        },
        {
          "output_type": "stream",
          "name": "stderr",
          "text": [
            "\rEpoch 1:   3%|▎         | 4/120 [00:10<04:58,  2.58s/it]"
          ]
        },
        {
          "output_type": "stream",
          "name": "stdout",
          "text": [
            "Validation Accuracy for Epoch 1: 7.90%\n",
            "Training Loss for Epoch 1: 0.0967\n",
            "Training Accuracy for Epoch 1: 7.98%\n"
          ]
        },
        {
          "output_type": "stream",
          "name": "stderr",
          "text": [
            "\rEpoch 1:   4%|▍         | 5/120 [00:13<05:12,  2.72s/it]"
          ]
        },
        {
          "output_type": "stream",
          "name": "stdout",
          "text": [
            "Validation Accuracy for Epoch 1: 7.90%\n",
            "Training Loss for Epoch 1: 0.1161\n",
            "Training Accuracy for Epoch 1: 7.90%\n"
          ]
        },
        {
          "output_type": "stream",
          "name": "stderr",
          "text": [
            "\rEpoch 1:   5%|▌         | 6/120 [00:15<05:03,  2.66s/it]"
          ]
        },
        {
          "output_type": "stream",
          "name": "stdout",
          "text": [
            "Validation Accuracy for Epoch 1: 7.89%\n",
            "Training Loss for Epoch 1: 0.1354\n",
            "Training Accuracy for Epoch 1: 7.94%\n"
          ]
        },
        {
          "output_type": "stream",
          "name": "stderr",
          "text": [
            "\rEpoch 1:   6%|▌         | 7/120 [00:18<05:00,  2.66s/it]"
          ]
        },
        {
          "output_type": "stream",
          "name": "stdout",
          "text": [
            "Validation Accuracy for Epoch 1: 7.90%\n",
            "Training Loss for Epoch 1: 0.1548\n",
            "Training Accuracy for Epoch 1: 7.90%\n"
          ]
        },
        {
          "output_type": "stream",
          "name": "stderr",
          "text": [
            "\rEpoch 1:   7%|▋         | 8/120 [00:20<04:53,  2.62s/it]"
          ]
        },
        {
          "output_type": "stream",
          "name": "stdout",
          "text": [
            "Validation Accuracy for Epoch 1: 7.90%\n",
            "Training Loss for Epoch 1: 0.1741\n",
            "Training Accuracy for Epoch 1: 7.98%\n"
          ]
        },
        {
          "output_type": "stream",
          "name": "stderr",
          "text": [
            "\rEpoch 1:   8%|▊         | 9/120 [00:24<05:13,  2.83s/it]"
          ]
        },
        {
          "output_type": "stream",
          "name": "stdout",
          "text": [
            "Validation Accuracy for Epoch 1: 7.90%\n",
            "Training Loss for Epoch 1: 0.1935\n",
            "Training Accuracy for Epoch 1: 7.86%\n"
          ]
        },
        {
          "output_type": "stream",
          "name": "stderr",
          "text": [
            "\rEpoch 1:   8%|▊         | 10/120 [00:26<05:01,  2.74s/it]"
          ]
        },
        {
          "output_type": "stream",
          "name": "stdout",
          "text": [
            "Validation Accuracy for Epoch 1: 7.89%\n",
            "Training Loss for Epoch 1: 0.2129\n",
            "Training Accuracy for Epoch 1: 7.77%\n"
          ]
        },
        {
          "output_type": "stream",
          "name": "stderr",
          "text": [
            "\rEpoch 1:   9%|▉         | 11/120 [00:29<04:51,  2.68s/it]"
          ]
        },
        {
          "output_type": "stream",
          "name": "stdout",
          "text": [
            "Validation Accuracy for Epoch 1: 7.89%\n",
            "Training Loss for Epoch 1: 0.2323\n",
            "Training Accuracy for Epoch 1: 7.86%\n"
          ]
        },
        {
          "output_type": "stream",
          "name": "stderr",
          "text": [
            "\rEpoch 1:  10%|█         | 12/120 [00:31<04:44,  2.63s/it]"
          ]
        },
        {
          "output_type": "stream",
          "name": "stdout",
          "text": [
            "Validation Accuracy for Epoch 1: 7.89%\n",
            "Training Loss for Epoch 1: 0.2517\n",
            "Training Accuracy for Epoch 1: 7.82%\n"
          ]
        },
        {
          "output_type": "stream",
          "name": "stderr",
          "text": [
            "\rEpoch 1:  11%|█         | 13/120 [00:34<04:44,  2.66s/it]"
          ]
        },
        {
          "output_type": "stream",
          "name": "stdout",
          "text": [
            "Validation Accuracy for Epoch 1: 7.89%\n",
            "Training Loss for Epoch 1: 0.2710\n",
            "Training Accuracy for Epoch 1: 7.93%\n"
          ]
        },
        {
          "output_type": "stream",
          "name": "stderr",
          "text": [
            "\rEpoch 1:  12%|█▏        | 14/120 [00:37<04:54,  2.78s/it]"
          ]
        },
        {
          "output_type": "stream",
          "name": "stdout",
          "text": [
            "Validation Accuracy for Epoch 1: 7.89%\n",
            "Training Loss for Epoch 1: 0.2904\n",
            "Training Accuracy for Epoch 1: 7.95%\n"
          ]
        },
        {
          "output_type": "stream",
          "name": "stderr",
          "text": [
            "\rEpoch 1:  12%|█▎        | 15/120 [00:40<04:42,  2.69s/it]"
          ]
        },
        {
          "output_type": "stream",
          "name": "stdout",
          "text": [
            "Validation Accuracy for Epoch 1: 7.90%\n",
            "Training Loss for Epoch 1: 0.3097\n",
            "Training Accuracy for Epoch 1: 7.97%\n"
          ]
        },
        {
          "output_type": "stream",
          "name": "stderr",
          "text": [
            "\rEpoch 1:  13%|█▎        | 16/120 [00:42<04:35,  2.65s/it]"
          ]
        },
        {
          "output_type": "stream",
          "name": "stdout",
          "text": [
            "Validation Accuracy for Epoch 1: 7.90%\n",
            "Training Loss for Epoch 1: 0.3291\n",
            "Training Accuracy for Epoch 1: 7.92%\n"
          ]
        },
        {
          "output_type": "stream",
          "name": "stderr",
          "text": [
            "\rEpoch 1:  14%|█▍        | 17/120 [00:45<04:29,  2.61s/it]"
          ]
        },
        {
          "output_type": "stream",
          "name": "stdout",
          "text": [
            "Validation Accuracy for Epoch 1: 7.90%\n",
            "Training Loss for Epoch 1: 0.3485\n",
            "Training Accuracy for Epoch 1: 7.87%\n"
          ]
        },
        {
          "output_type": "stream",
          "name": "stderr",
          "text": [
            "\rEpoch 1:  15%|█▌        | 18/120 [00:48<04:46,  2.81s/it]"
          ]
        },
        {
          "output_type": "stream",
          "name": "stdout",
          "text": [
            "Validation Accuracy for Epoch 1: 7.91%\n",
            "Training Loss for Epoch 1: 0.3679\n",
            "Training Accuracy for Epoch 1: 7.90%\n"
          ]
        },
        {
          "output_type": "stream",
          "name": "stderr",
          "text": [
            "\rEpoch 1:  16%|█▌        | 19/120 [00:50<04:36,  2.74s/it]"
          ]
        },
        {
          "output_type": "stream",
          "name": "stdout",
          "text": [
            "Validation Accuracy for Epoch 1: 7.91%\n",
            "Training Loss for Epoch 1: 0.3872\n",
            "Training Accuracy for Epoch 1: 7.91%\n"
          ]
        },
        {
          "output_type": "stream",
          "name": "stderr",
          "text": [
            "\rEpoch 1:  17%|█▋        | 20/120 [00:53<04:29,  2.69s/it]"
          ]
        },
        {
          "output_type": "stream",
          "name": "stdout",
          "text": [
            "Validation Accuracy for Epoch 1: 7.91%\n",
            "Training Loss for Epoch 1: 0.4066\n",
            "Training Accuracy for Epoch 1: 7.94%\n"
          ]
        },
        {
          "output_type": "stream",
          "name": "stderr",
          "text": [
            "\rEpoch 1:  18%|█▊        | 21/120 [00:56<04:22,  2.65s/it]"
          ]
        },
        {
          "output_type": "stream",
          "name": "stdout",
          "text": [
            "Validation Accuracy for Epoch 1: 7.91%\n",
            "Training Loss for Epoch 1: 0.4259\n",
            "Training Accuracy for Epoch 1: 7.94%\n"
          ]
        },
        {
          "output_type": "stream",
          "name": "stderr",
          "text": [
            "\rEpoch 1:  18%|█▊        | 22/120 [00:58<04:23,  2.68s/it]"
          ]
        },
        {
          "output_type": "stream",
          "name": "stdout",
          "text": [
            "Validation Accuracy for Epoch 1: 7.91%\n",
            "Training Loss for Epoch 1: 0.4452\n",
            "Training Accuracy for Epoch 1: 8.04%\n"
          ]
        },
        {
          "output_type": "stream",
          "name": "stderr",
          "text": [
            "\rEpoch 1:  19%|█▉        | 23/120 [01:02<04:32,  2.81s/it]"
          ]
        },
        {
          "output_type": "stream",
          "name": "stdout",
          "text": [
            "Validation Accuracy for Epoch 1: 7.91%\n",
            "Training Loss for Epoch 1: 0.4645\n",
            "Training Accuracy for Epoch 1: 7.84%\n"
          ]
        },
        {
          "output_type": "stream",
          "name": "stderr",
          "text": [
            "\rEpoch 1:  20%|██        | 24/120 [01:04<04:22,  2.74s/it]"
          ]
        },
        {
          "output_type": "stream",
          "name": "stdout",
          "text": [
            "Validation Accuracy for Epoch 1: 7.91%\n",
            "Training Loss for Epoch 1: 0.4839\n",
            "Training Accuracy for Epoch 1: 7.93%\n"
          ]
        },
        {
          "output_type": "stream",
          "name": "stderr",
          "text": [
            "\rEpoch 1:  21%|██        | 25/120 [01:07<04:14,  2.67s/it]"
          ]
        },
        {
          "output_type": "stream",
          "name": "stdout",
          "text": [
            "Validation Accuracy for Epoch 1: 7.91%\n",
            "Training Loss for Epoch 1: 0.5032\n",
            "Training Accuracy for Epoch 1: 7.83%\n"
          ]
        },
        {
          "output_type": "stream",
          "name": "stderr",
          "text": [
            "\rEpoch 1:  22%|██▏       | 26/120 [01:09<04:07,  2.63s/it]"
          ]
        },
        {
          "output_type": "stream",
          "name": "stdout",
          "text": [
            "Validation Accuracy for Epoch 1: 7.92%\n",
            "Training Loss for Epoch 1: 0.5226\n",
            "Training Accuracy for Epoch 1: 7.94%\n"
          ]
        },
        {
          "output_type": "stream",
          "name": "stderr",
          "text": [
            "\rEpoch 1:  22%|██▎       | 27/120 [01:12<04:22,  2.82s/it]"
          ]
        },
        {
          "output_type": "stream",
          "name": "stdout",
          "text": [
            "Validation Accuracy for Epoch 1: 7.91%\n",
            "Training Loss for Epoch 1: 0.5420\n",
            "Training Accuracy for Epoch 1: 7.83%\n"
          ]
        },
        {
          "output_type": "stream",
          "name": "stderr",
          "text": [
            "\rEpoch 1:  23%|██▎       | 28/120 [01:15<04:12,  2.75s/it]"
          ]
        },
        {
          "output_type": "stream",
          "name": "stdout",
          "text": [
            "Validation Accuracy for Epoch 1: 7.91%\n",
            "Training Loss for Epoch 1: 0.5613\n",
            "Training Accuracy for Epoch 1: 7.93%\n"
          ]
        },
        {
          "output_type": "stream",
          "name": "stderr",
          "text": [
            "\rEpoch 1:  24%|██▍       | 29/120 [01:17<04:03,  2.67s/it]"
          ]
        },
        {
          "output_type": "stream",
          "name": "stdout",
          "text": [
            "Validation Accuracy for Epoch 1: 7.91%\n",
            "Training Loss for Epoch 1: 0.5806\n",
            "Training Accuracy for Epoch 1: 7.97%\n"
          ]
        },
        {
          "output_type": "stream",
          "name": "stderr",
          "text": [
            "\rEpoch 1:  25%|██▌       | 30/120 [01:20<03:56,  2.63s/it]"
          ]
        },
        {
          "output_type": "stream",
          "name": "stdout",
          "text": [
            "Validation Accuracy for Epoch 1: 7.91%\n",
            "Training Loss for Epoch 1: 0.5999\n",
            "Training Accuracy for Epoch 1: 8.02%\n"
          ]
        }
      ]
    },
    {
      "cell_type": "code",
      "source": [
        "# TODO: Show loss and accuracy plots\n",
        "\n",
        "plt.figure(figsize=(12, 4))\n",
        "plt.subplot(1, 2, 1)\n",
        "plt.plot(train_losses, label='Training Loss')\n",
        "plt.xlabel('Epoch')\n",
        "plt.ylabel('Loss')\n",
        "plt.title('Training Loss')\n",
        "plt.legend()\n",
        "\n",
        "plt.subplot(1, 2, 2)\n",
        "plt.plot(train_accuracies, label='Training Accuracy', color='r')\n",
        "plt.plot(val_accuracies, label='Validation Accuracy', color='g')\n",
        "plt.xlabel('Epoch')\n",
        "plt.ylabel('Accuracy (%)')\n",
        "plt.title('Training and Validation Accuracy')\n",
        "plt.legend()\n",
        "plt.tight_layout()\n",
        "plt.show()"
      ],
      "metadata": {
        "id": "gOYpDCsi8q2O",
        "colab": {
          "base_uri": "https://localhost:8080/",
          "height": 407
        },
        "outputId": "18aacb77-1afd-4137-e31b-95cb8967121a"
      },
      "execution_count": 33,
      "outputs": [
        {
          "output_type": "display_data",
          "data": {
            "text/plain": [
              "<Figure size 1200x400 with 2 Axes>"
            ],
            "image/png": "[encoded data removed]"
          },
          "metadata": {}
        }
      ]
    },
    {
      "cell_type": "code",
      "source": [
        "# TODO: Evaluate the model on the test data\n",
        "  # get inputs from test data loader\n",
        "      # forward pass + get predicted outputs\n",
        "      # calculate accuracy of predictions\n",
        "      # print statistics\n",
        "\n",
        "# Test Accuracy: 77.82%"
      ],
      "metadata": {
        "colab": {
          "base_uri": "https://localhost:8080/"
        },
        "id": "iExsjq3l2mIO",
        "outputId": "3650f1bd-a27a-497d-c0c7-27139f8cd505"
      },
      "execution_count": null,
      "outputs": [
        {
          "output_type": "stream",
          "name": "stdout",
          "text": [
            "Test Accuracy: 77.82%\n"
          ]
        }
      ]
    },
    {
      "cell_type": "markdown",
      "source": [
        "# Q4"
      ],
      "metadata": {
        "id": "veCPdvT43o9I"
      }
    },
    {
      "cell_type": "code",
      "source": [
        "# TODO: Extract the weight matrix of the first hidden layer\n",
        "weight_matrix = model.fc1.weight.data.cpu().numpy()\n",
        "\n",
        "# TODO: Normalize each row of the weight matrix to [0, 1]\n",
        "normalized_weight_matrix = (weight_matrix - weight_matrix.min(axis=1, keepdims=True)) / (weight_matrix.max(axis=1, keepdims=True) - weight_matrix.min(axis=1, keepdims=True))\n",
        "\n",
        "# Visualize the first 9 rows of the normalized weight matrix\n",
        "num_rows_to_visualize = 9\n",
        "fig, axes = plt.subplots(num_rows_to_visualize, 1, figsize=(10, 20))\n",
        "for i in range(num_rows_to_visualize):\n",
        "    axes[i].imshow(normalized_weight_matrix[i].reshape(28, 28), cmap='gray')\n",
        "    axes[i].set_title(f'Weight Vector {i+1}')\n",
        "    axes[i].axis('off')\n",
        "\n",
        "plt.tight_layout()\n",
        "plt.show()"
      ],
      "metadata": {
        "colab": {
          "base_uri": "https://localhost:8080/",
          "height": 1000
        },
        "id": "U7GBGemi3gAm",
        "outputId": "5176e86c-3cc2-4d07-e329-2371c379abd4"
      },
      "execution_count": 28,
      "outputs": [
        {
          "output_type": "display_data",
          "data": {
            "text/plain": [
              "<Figure size 1000x2000 with 9 Axes>"
            ],
            "image/png": "[encoded data removed]"
          },
          "metadata": {}
        }
      ]
    },
    {
      "cell_type": "code",
      "source": [],
      "metadata": {
        "id": "DSGxWzI73rPS"
      },
      "execution_count": null,
      "outputs": []
    }
  ]
}